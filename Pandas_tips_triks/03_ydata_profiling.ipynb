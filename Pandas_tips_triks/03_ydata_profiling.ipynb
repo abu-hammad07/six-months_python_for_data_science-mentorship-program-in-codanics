{
 "cells": [
  {
   "cell_type": "markdown",
   "metadata": {},
   "source": [
    "# Automatic EDA using `ydata_profiling`"
   ]
  },
  {
   "cell_type": "code",
   "execution_count": 2,
   "metadata": {},
   "outputs": [],
   "source": [
    "# impoert libraries\n",
    "import pandas as pd\n",
    "import seaborn as sns\n",
    "import ydata_profiling as yd"
   ]
  },
  {
   "cell_type": "code",
   "execution_count": 3,
   "metadata": {},
   "outputs": [],
   "source": [
    "# impoert data from seaborn\n",
    "df = sns.load_dataset('titanic')"
   ]
  },
  {
   "cell_type": "code",
   "execution_count": 5,
   "metadata": {},
   "outputs": [
    {
     "name": "stderr",
     "output_type": "stream",
     "text": [
      "Summarize dataset:   5%|▌         | 1/20 [00:00<00:01, 11.31it/s, Describe variable:survived]"
     ]
    },
    {
     "name": "stderr",
     "output_type": "stream",
     "text": [
      "Summarize dataset: 100%|██████████| 41/41 [00:08<00:00,  5.11it/s, Completed]                    \n",
      "Generate report structure: 100%|██████████| 1/1 [00:10<00:00, 10.13s/it]\n",
      "Render HTML: 100%|██████████| 1/1 [00:02<00:00,  2.60s/it]\n",
      "Export report to file: 100%|██████████| 1/1 [00:00<00:00, 33.34it/s]\n"
     ]
    }
   ],
   "source": [
    "# ydata profile repoet\n",
    "profile = yd.ProfileReport(df)\n",
    "profile.to_file(output_file='./outpots/03_ydata_titanic.html')"
   ]
  }
 ],
 "metadata": {
  "kernelspec": {
   "display_name": "ydata_profiling",
   "language": "python",
   "name": "python3"
  },
  "language_info": {
   "codemirror_mode": {
    "name": "ipython",
    "version": 3
   },
   "file_extension": ".py",
   "mimetype": "text/x-python",
   "name": "python",
   "nbconvert_exporter": "python",
   "pygments_lexer": "ipython3",
   "version": "3.10.13"
  }
 },
 "nbformat": 4,
 "nbformat_minor": 2
}
